{
 "cells": [
  {
   "cell_type": "markdown",
   "metadata": {
    "id": "qYnJJYUxbdua"
   },
   "source": [
    "# SteganoGAN in Keras\n",
    "This notebook contains code attempting to reimplement SteganoGAN in Keras, for the purpose of better understanding (and scrutinizing) it.\n",
    "\n",
    "*Based on https://github.com/DAI-Lab/SteganoGAN/tree/master/steganogan*"
   ]
  },
  {
   "cell_type": "markdown",
   "metadata": {
    "id": "OTRQl5_KUxUA"
   },
   "source": [
    "### Modules"
   ]
  },
  {
   "cell_type": "code",
   "execution_count": 1,
   "metadata": {
    "id": "QbnEM8Oubduh"
   },
   "outputs": [
    {
     "name": "stderr",
     "output_type": "stream",
     "text": [
      "2025-01-28 01:52:27.248255: I tensorflow/core/platform/cpu_feature_guard.cc:210] This TensorFlow binary is optimized to use available CPU instructions in performance-critical operations.\n",
      "To enable the following instructions: AVX2 FMA, in other operations, rebuild TensorFlow with the appropriate compiler flags.\n"
     ]
    }
   ],
   "source": [
    "import os\n",
    "os.environ[\"KERAS_BACKEND\"] = \"tensorflow\"\n",
    "import sys\n",
    "\n",
    "import tensorflow as tf\n",
    "from tensorflow.keras.optimizers import Adam, RMSprop\n",
    "from tensorflow.keras.losses import BinaryCrossentropy, MeanSquaredError\n",
    "\n",
    "from models import ResidualEncoder, BasicDecoder, Critic\n",
    "\n",
    "from resnet_steganogan_gp import ResnetSteganoGAN"
   ]
  },
  {
   "cell_type": "markdown",
   "metadata": {},
   "source": [
    "### Constants"
   ]
  },
  {
   "cell_type": "code",
   "execution_count": 2,
   "metadata": {},
   "outputs": [],
   "source": [
    "# Image dimensions\n",
    "IMAGE_HEIGHT = 128\n",
    "IMAGE_WIDTH = 128\n",
    "IMAGE_CHANNELS = 3\n",
    "\n",
    "IMAGE_SHAPE = (IMAGE_HEIGHT, IMAGE_WIDTH, IMAGE_CHANNELS)\n",
    "MESSAGE_DEPTH = 6\n",
    "BATCH_SIZE = 4\n",
    "MODEL_PATH = 'ResnetSteganoGAN.weights.h5'\n",
    "\n",
    "IMAGES_TESTING_PATH = 'images/testing'\n",
    "IMAGES_OUTPUT_PATH = 'images/testing_output'"
   ]
  },
  {
   "cell_type": "markdown",
   "metadata": {},
   "source": [
    "----"
   ]
  },
  {
   "cell_type": "markdown",
   "metadata": {},
   "source": [
    "### Call main encode and decode functions (with creating steganographic image and decoding it)"
   ]
  },
  {
   "cell_type": "code",
   "execution_count": 3,
   "metadata": {},
   "outputs": [
    {
     "name": "stdout",
     "output_type": "stream",
     "text": [
      "Model loaded from ResnetSteganoGAN.weights.h5\n"
     ]
    }
   ],
   "source": [
    "encoder = ResidualEncoder(MESSAGE_DEPTH)\n",
    "decoder = BasicDecoder(MESSAGE_DEPTH)\n",
    "critic = Critic()\n",
    "\n",
    "encoder.build(input_shape=[(None, None, None, IMAGE_CHANNELS), (None, None, None, MESSAGE_DEPTH)])\n",
    "decoder.build(input_shape=(None, None, None, IMAGE_CHANNELS))\n",
    "critic.build(input_shape=(None, None, None, IMAGE_CHANNELS))\n",
    "\n",
    "resnetSteganoGAN = ResnetSteganoGAN(\n",
    "  encoder=encoder,\n",
    "  decoder=decoder,\n",
    "  critic=critic,\n",
    "  data_depth=MESSAGE_DEPTH\n",
    ")\n",
    "\n",
    "resnetSteganoGAN.build(input_shape=[(None, None, None, IMAGE_CHANNELS), (None, None, None, MESSAGE_DEPTH)])\n",
    "\n",
    "if MODEL_PATH is not None and os.path.exists(MODEL_PATH):\n",
    "  resnetSteganoGAN.load_weights(MODEL_PATH)\n",
    "  print(f'Model loaded from {MODEL_PATH}')\n",
    "\n",
    "resnetSteganoGAN.compile(\n",
    "  encoder_optimizer  = Adam(learning_rate=1e-4),\n",
    "  decoder_optimizer  = Adam(learning_rate=1e-4),\n",
    "  critic_optimizer   = Adam(learning_rate=1e-4, beta_1=0.5, beta_2=0.9),\n",
    "  similarity_loss_fn = MeanSquaredError(),\n",
    "  decoder_loss_fn    = BinaryCrossentropy(from_logits=False) # false means that data to compare is in [0, 1]\n",
    ")"
   ]
  },
  {
   "cell_type": "code",
   "execution_count": 4,
   "metadata": {},
   "outputs": [
    {
     "name": "stdout",
     "output_type": "stream",
     "text": [
      "Found 1 candidates for message, choosing most common.\n",
      "°2\u000bqIÌýd¾¿'¢zc\f ³\u00051¶z! {°u\u0013\u00012ÓÍgÝcü1×¯p~00\u0003²6\u000b\u0001¸Ixýeÿ¿5{n 1\u0003õ|0XW¸y|ýÿ*ã\u0017£(p\u0001 \u0003p{\u0000\u0002aÞc­=W¯r~ðp\u0003÷5/xÓHö½i÷¿ §zk\f 1\u0005õ|0ZGø4aÿ<àWÿ£(p\u0001 x°ñ\u00074Óeßÿk­2Û¯1~à8\u000bòv\u00008ÓÁHç½eÿ¿5¶zk\f 1\u0005õ¼0xK8¥xÝ¿6âWÿ£¨b\u0001 ±\u001bðu\u0000\u0010ÑÍeß¼c©1_¯0~°0uw\t\u001aA|Öýe¿7¦~c 1\u0001u T\u0013¼\u001b!tÝß6¡\u0017ÿ£hb\u0001 ò\u001bpv\u0001\u0010\u0000\teßégý1×¯0þ\u001dp4\u000bq6\t\u00008eÜÒíd½&zb\f ³\u0001a \u001b¼qh¿4¡\u0017ÿ#hâ\u0001 ²\u000bpg\t\u0000ÑIåùç1/2~\n",
      " 1C÷=\u00004\u0018\u0010\u0004\u0018±hü?<°WCètqâu\u0000p}\u0001\u0018\u0000Ícìïk­5S.3~Uft\u0003su\u0001\u0010Q\\ô¯`ïý07ÿrm¤1\u0001ó=\u0002\u0011\u0004\u0018±pÜ?4ñW#®tAâuCðy\u0000\u0018\u0010a¼®k½%W.2þ\u0017bt\u0003ó=\u0000\u0010\u0011TÔ®`ïÿ4¶+rm¤1\u0001÷=\u00004\u0000\u0011Å\f\u0018±h¼¿4ð×Cht!â1\u0003p}\u0001Á\u0018\u0010Íeüïk­qW®st\u0017ât\u0003su\u0011\u0010\u0011ÅVõ¯`ïý0¶«r-ã1\u0001÷=\u0000p\u0018\u0011Å\u0014ñ`üÿ,°×#ht!cuQ°}\u0000\u0018\u0010Íe,ík­eW®s|\u0017ât\u0003÷5\u0000\u0010\u0011ÅTõ¯`ÿÿ0¶ër-¡1\u0001÷=\u0000p\u0018\u0011Å\u0014õ`üÿ,ð×\u0003jt!â5\u0013p}\u0001Ä\u0018\u0010Ía|ïk­uW®s|\u0007ât\u0003÷5\u0001\u0010\u0011ÅTõ¯`ÿý4¶ëv-e1\u0003÷=\u0000p\u001c\u0011Å\u0014õ`Ýï<ð×\u0003htaâ5Sp}\u0001Å\u0018\u0010Íeüík­qW®st\u0017ât\u0003óu\u0010\u0014QÅVõ­`ÿÿ4·ëv-å1\u0003÷=\u0000ð\u0018\u0011Å\u0014\u0018õ`üÿ<°WCjt!â5\u0013p}\u0011Å\u0018\u0010Íg|ïk­uW®stwât\u0003ó=\u0010Å\u0014QÅVõ­pïÿ4÷ër-e5A÷=\u00000\u0018\u0011\u001cñ`Üÿ,ð×#jt1â5Spu\u0011Å\u0018\u0010Íe|ïk­uW®stwât\u0003÷5\u0011\u0010\u0011ÅVõ¯pÿý0¶ëv-c1\u0003÷=\u0000ð\u0018\u0011Å\u0014õ`Ýï<ð×Ckt!â5\u0010p=\u0001Å\u0018\u0010aìïk­!W®r|ât\u0013ó=\u0001\u0010\u0011^õ¯pÿÿ4÷ër- 1\u0001÷?#4\u0010\u0010\u0006\u0018ñh\u001c¿4°×\u0003jt!â5\u0013pu\u0001Ä\u0018\u0010Íeüïk­uW®w|×bt\u0003ó5\u0010Ä\u0010\u0011ÅVñ¯`ÿý4¶ëv-á1\u0001÷=\u0000p\u0018\u0011\u001c\u0018ñ`üÿ,°×Cjtaã5\u0003p}\u0001\u0018\u0010eüïk­uW®s|7ât\u0003w5\u0010\u0010\u0011ÅVõ­pÿý4·ëv=å1\u0001÷=\u0000°\u0018\u0011Å\u0014ñxü<0õcêt!âa\u0002p}\u0001Ä\u0018\u0010Íeýïk-%S¯3|Gâ4\u0003ó=\u0001\u0000\u0011^Õ¯hÿÿ0·ër-!1\u0001÷=\u00000\u0018\u0011\fX±`<ï<°×\u0003htaâ1Cp}\u0001\u0018\u0000cüïk­!S¯3~'ct\u0013¶5\u0010\u0000\u0010\u0001PÔ­`ÿ4·ÿv}%1\u0003÷?\u00020\u001cQÅ\u001c\u0018ñ|}ÿ4±Wclt1âSô}\u0001Å\u00181Íeýïk­5W®6tWbt\u0013÷5QÄ\u0014QÅTÔ­dÿÿ0·kr\f¤1A÷=\u0000\u0010\f\u0018±`¿, {#lt!âqCð}\u0001\u001a\u0010a¬¬c­1S®3|Uât\u00032u\u0000\u0010\u0011XÔ¯`ïÿ0·ërM¡1a÷}\u0000\u0000\u0000\u0018°h¼¿<ñW{\u0003¨t!¢q\u0002ð}\u0000\u0010e\u001cï{½#W/w|uæt3³9 \u0000\u0010X¬`¾¿47ëz}\"!\u0001ó=\u00000\u0000\u0010\u001cX±xü¿8ñWcntqâ=Cô=\u0001\u00180Íaüî{­!S/w~uât\u0003ò9\u0000\u0010\u0011TÔ¾hÿÿ ·;v,£1\u0001÷=\u0002\u0010\u0018°`?$±\u0017#(tqâq\u0002ðy\u0001Å\u001a\u0010aìïk­aW.2|\u0017ât\u0003ó9!\u0004QTÔ¯`ïÿ0·kv-£1\u0001÷?\u0002\u0011ñp\\¿< ×#¨taâq\u0002°}\u0001\u001a\u0000Íaìïk­uW.6~¶b4\u0013÷=\u0000\u0010\u0011ÅTÕ­`ÿÿ07ër\f\"1A÷=\u00000\u0000\u0010\f\u0018°`Ü¿4ñ\u0017{\u0003*taâ5\u0003p}\u0001Å\u0018\u0010a|ï{½!W®6~Wbt\u0003òu\u0000\u0000\u0011ZÔ­dÿÿ4·{rm¤1\u0001õ=\u0000°`ü¿<±×\u0003ètaâuSpm\u0000\u0001\u0018 eüîk­aW®r~ât\u0003÷}\u0000\u0010\u0011ÅTõ¯`ÿÿ4¶ër-!1\u0001÷=\u0002°\u0018\u0011\u001c¡`üÿ,ð×Cjt!â5Sp}\u0001Ä\u0018\u0010Íeüïk­uW®s|\u0017æ4\u0003³50\f\u0010\u0005Tõ¯`ïÿ0¶ër-%1\u0001÷=\u00000\u0018\u0011\u0014\u0018ñ`üÿ,°×\u0003jt!âu\u0013pu\u0001Ä\u0018\u0010Íeüïk­qW®st\u0017ât\u0003÷5QÅ\u0000\u0011TÔ¯`ïÿ0·ër-!1\u0001÷=\u0000p\u0018\u0011\u0014õ`Üï<ðWckt!â5Spu\u0011Å\u0018\u0010Íeüïg­5W¯st\u0017ât\u0003÷5\u0000\u0010QÅVõ­`ÿÿ4·ëv-á1\u0003÷=\u0000ð\u001c\u0011Å\u0014õ`Ýÿ<ð×#jt1â5\u0013pu\u0011Å\u0018\u0010Íeüíc­aW®st\u0017bt\u0003ó5\u0010Å\u0014QÅVõ­pÿÿ4·ëv-å1\u0003÷=\u0000ð\u001c\u0011Å\u0014õ`Ü*±W#¨t!â5\u0013p}\u0001Ä\u0018\u0010Íe|ïk­uW®stWbt\u0003ó=\u0010Å\u0014QÅVõ­pÿÿ4÷ëvmç1A÷=\u0000p\u0018\u0011\u0014ñ`Ü,ð×Ckt!â5Sp}\u0011Å\u0018\u0010Íe}ïk­uW®stwât\u0013w5\u0000\u0010\u0011ÅTÔ¯`ïÿ07{vm¦1A÷=\u0002°\u0018\u0011Å\u0014õpÝÿ<ð×{\u0003j|qçuSp5\u0010E\u0018\u0010aìïk­qW®stWbt\u0003÷5\u0000\u0010\u0011ÅVõ¯pÿÿ4÷ër-£1\u0003÷=\u0000°\u0018\u0011Å\u0014õ`üÿ<ð×Cjt1âq\u0013p}\u0001Ä\u0018\u0010Íeüïk­eW.r~\u0015bt\u0003s=\u0000\u0000\u0011ÅVõ­`ÿÿ4¶ëv-a1\u0003÷=\u0000p\u0018\u0011\u0014õ`Ýï<ð×Ckt1â5Spu\u0011Å\u0018\u0010Íaýÿ¬3S®2|ât\u0013ó5\u0000\u0010\u0011ÅÞU­`ÿý0·ërl\"1C÷}\u0000\u0011Øñ`Üÿ4°×#ht!â5Sp}\u0001\u0005\u0018\u0010aìïk­aW¯s~\u0015cp\u0003³9\u0000\u0014\u0011XÕ¯hÿÿ8·/~m¦1\u0001ó=\"\u0010±`?4qW{\u0003(t!buCpg\tD\u001a\u0011Íe|í½uS.3~wæt3÷=qÅqÅÜõ¯hÿÿ4wëv]d1Cu5\u00000\u0000\u0000\u0004\u0018±`|¿4ñ×C¬paâq\u0002p}\u0001\u0018\u0010cìïk­%W/3~Wât\u0003óu\u0001\u0010\u0011P­`ÿý0;r, 1\u0001÷=\u0002\u0011\u0004\u0018°x\\¿< \u0016cnt!¢9\u0002°y\u0000\u0018\u0010eÜîk­#W®2~·â4\u0003²) \u0004QÁTÔ­`ÿÿ4·ïv}¦1\u0003µ=\u0002°`¯<ð×#êt!¢qCpe\u0001E\u00181Ía|ío½1W/w~wæt\u0003w5qÅ\u001cQÅ^õ¯|ÿÿ4·ïv\u001d¢1\u0003÷}\n",
      "!1A÷?\u0000°\u0018\u0011\u0014\u0018±pÜ¿4±Ö{Cntaâq\u0003p}\u0001\u0018\u0000a\u001cík­%W/wüwât\u0001ò=\u0000\u001c1ÅTÕ¯`ïÿ0·ërM&1\u0001ó=\u0000°\u0018\u0011\u0014\u0018ñxÜ?<±W#ìtaâ1\u0003p}\u0001Å\u0018\u0010Ía¬ïk­1W.2~÷bt\u0003ó} \u0010\u0011Tõ¯`ÿÿ0·kr, 1A÷=\u0002\u0011\u0004X°`¿<°×#hta¢qSpm\u0001\u0018\u0000eìï{­5W.2|×ât\u0003ó9!\u0004QTÔ¬hoÿ0·ërm¦5\u0001÷=\u00004\u0018\u0011\u0014´`|¿4¡Ö\u0003*paâqCð}\u0001Å\u0018\u0010Íaìîk­!S¯s~\u0017ât\u0003÷=\u0000\u0010Å\u0014QÅVõ­`ÿý4¶«v-å1\u0003÷=\u0000ð\u0018\u0011\u0014õ`üÿ<ð×#kt!â5\u0013p}\u0011Ä\u0018\u0010Ígýïk­aW®st\u0017ât\u0003ó5\u0010Å\u0014QÅVõ­pÿý4÷ëv-a1\u0003÷=\u0000ð\u0018\u0011\u0014õ`Ýÿ<ð×Ckt1â5\u0013ð=\u0011Å\u0018\u0010Íe|ïk­uW®st7â4\u0003ó5\u0010\u0014QÅVõ­pÿÿ4·ëvma1\u0001÷=\u0000\u0011\u001c\u0018ñpÜÿ<ð×Ckt!â5Sp}\u0011Ä\u0018\u0010Ía|ïk­uW®stbt\u0013r<\u0000\u0000\u0004\u0010TÔ¯`ïÿ4·ër-ç1A÷=\u00000\u0018\u0011Å\u0014õ`Ýï<ð×Cit!â5\u0013pu\u0011Ä\u0018\u0010Íeüïk­aW®st7ât\u0013s5\u0000\u0010\u0011ÅVõ­pÿÿ4§kr-¤1A÷=\u0002\u0010\u0004\u0018±x|¿$±×\u0003it1ã5Sp}\u0011Å\u0018\u0010Íeüïk­uW®st\u0017bt\u0013ó5\u0000\u0010\u0011ÅVõ­`ïõ´V«rM 1C÷=\u00024\u0000\u0010\u0014\u0018ñ`Ü?4±W{Cnpqã=\u0013p}\u0001\u0018\u0010e\\îc­qW®r~bt\u0013ó5\u0001\u0010\u0011\\Ô¯`®¿ §û~}¥1A÷=\u0011\u0014\u0018±pý¿4ñ\u0017{#,t1âu\u0003p}\u0001\u0018\u0000Ía¼îk­1S®2~Õç4\u0003³9!\u0018Q\\Ô®`ïÿ0·ër{­%W.2|5bt\u0001¶q\u0010\u0014\u0010Zô¯lÿý0·ërÍa­ïc­1W.7~7bt\u0013ó=!\u0018\u0011ÅVõ¯`ïý0·krm¦1\u0003u=\u0003p\u0004\u0011\u0004Øñ`?$ð\u0017#ètaâ1\u0003p}\u0001\u0018\u0010Íeüïk­1W®7|\u0007bt\u0003²5\u0000\u0010\u0011ÁTÔ¯`ïÿ0·?v-¤5A÷=\u0002°\u0018\u0011\u0014\u0018±xý?4ð×\u0003htaâ1\u0003ð}\u0001\u0018\u0010Ma\u001cïk­1W/3|Uât\u0003²1\u0010\u0000\u0011VÕ­`ÿÿ>¶+bL¢1\u0001÷=\u0000\u0011\f°`Ýÿ4°×chtqâuSð}\u0001\u0018\u0010aìïk­aW®r~Õbt\u0013òq\u0001\u0010\u0011Å\\Ô¯hïÿ0·ër0¶;r\u0000\u0011\u001c\u0018±p|¿4ð×Cltaâ1\u0003ð}\u0001\u0018\u0010aïk­aW®2|\u0017ât\u0003ö=\u0011\u0011ÅVõ®`ïý<·r}¢3\u0003÷=\u0002\u0000\f\u0018±`ü¿4±×\u0003lpaâuBp=\u0001\u0018\u0010aìîc½1W®2~Õb4\u0013÷?\u0000\u0000\u0011\\®`¯}0·û~M¥1A÷=\u00024\u0018\u0011±`ü¿6±×\u0003htqâq\u0003p}\u0001\u0018\u0010Mg¼ïc­qW®wþ·â4\u0003ó5\u0000\u0000\u0011\\Ôª`oý0·krM%1\u0001÷=\u0002\u0000\u0004\u0018°`¿$ð\u0016\u0003lt\u0001buCp%\u0001Ä\u001a\u0011Íeík½eWn6|\u0017bt\u00030u\u0010QE^Ô­`ÿÿ07ëv}¦1A÷?\"\u0010\u0004X±p?4ðW#(t\u0001â5Cp%\u0001@\u0018\u0010üìk½1W®3|\u0015ç4\u00033i!\u0004QVÔ¯hïý0·{r-¤1\u0000ò=\u0002\u0010\f°`Ü¯<°#(taâ5C0!\u0001\u0010\u0010aìïk­1W.2|Wât\u0003óy!\u0004Q\\Ô¬`ïÿ0·ïr\f¦1A÷=\u0002\u0010\f\u0018°`¿4±\u0017{c(d1â1c°}\u0000\u0005\u0018\u0010Íaìïk­aW®r|ât\u0003ó5\u0000\u0010\u0011ÅVõ¯`ÿÿ4¶ëv-£1\u0001÷=\u00000\u0018\u0011Å\u0014ñhüÿ,°×#ht1âq\u0013p}\u0001Ä\u0018\u0010Íeüïk­eW®v|%bt\"ó5\u0000\u0010\u0011ÅVõ¯`ïý0¶ër-!1\u0001÷=\u0000p\u0018\u0011\u0014ñ`Ýÿ<ðWCkt1â5Spu\u0011Å\u0018\u0010Íeüík­uW®st5bt\u0013÷u \u0010\u0011ÅVõ¯`ÿý4¶«v-á1\u0003÷=\u0000p\u0018\u0011Å\u0014õ`Ýÿ4ð×ckt!â5Sp}\u0011Ä\u0018\u0010Íaüïk­uW®stWbt\u0003ó5\u0010Å\u0014QÅVõ­pÿÿ4·ër-å1\u0003÷=\u0002p\u001c\u0011\u0014õ`Üÿ<°ÕCkt!âu\u0013p}\u0011Ä\u0018\u0010Íe|ïk­uW®st7ât\u0003ó5\u0010Å\u0014QÅVõ­pÿÿ4·ëv-e1\u0003÷=\u0000\u0011Å\u0014\u0018±pÜÿ<ð×ckt1âu\u0013p}\u0011Å\u0018\u0010Íe|ïk­uW®stWât\u0003÷5\u0010Å\u0014QÅVõ­tÿÿ4÷ëv-å1\u0003÷=\u0000ð\u0018\u0011\u0014õ`Ýï<ðWckt1â5\u0013p=\u0011Å\u0018\u0010Íe|ïk­aW®2~\u0015bt\u0003³u\u0010\f\u0011Å\\´®pïý07ër-£1\u0001÷=\u0000p\u0018\u0011\u0014\u0018ñ`Ý,ñÕ#èt!â5Cp}\u0001À\u0018\u0010Íe|ïk­uW®s|7ât\u0003÷5\u0010\u0014QÅVõ­pïý4·ëv-á1\u0001÷=\u0000ð\u0018\u0011\u0014ñ`Üÿ<ðW#jt!âu\u0013pu\u0011Ä\u0018\u0010Íeýïk­1W.6|\u0015bt#ó5\u0000\u0010\u0011ÅVõ­pÿý4¶«v-e1\u0003÷=\u0000ð\u001c\u0011Å\u0014õ`Ýÿ<ð×Ckt!âu\u0013p}\u0001Ä\u0010Mgìc½aW/wv_bt\u0011wu\u0010\u0000\u0000\u0011ÅÚõ¯xÿÿ<·k~}¦1A÷=\u0000\u0011\fXõ|üÿ4ñ×cnt!â5Rry\u0001Å\u0018\u0010Íaìïk­5S.2~5b4\u0013÷=\u0001\u0010\u0011ÅXÔ­`¯ý0·ërM§1A÷5\u00000\f\u0011ñp¬?4ÐW#ltaâu@p}\u0001Å\u0018\u0010Íc¬®c­!W®w|Wât\u0003÷u\u0001\u0010\u0011XÔ¯`oý07{r\u001c\u0011TÔ¯`ïÿ0¶ër-'1Aõu\u00000\u0000°h¬?4°{\u0003jt!âuBpm\u0000\u00004·ï~}¢1\u0003÷=\u0002\u0010\f±`ü¿:à{\u0003(`\u0000¢1\u0002p=\u0000\u0018\u0000eªk¬!W®2|\u0016bt\u00012u\u0010\u0000\u0010Z®`oÿ0·or]b1\u0001÷=\u00020\u0018\u0011\fX±xüÿ, W\u0003ltqbuCp}\u0001\u0018\u0000aìïk­5S/7~gât\u0003ó=q\u001cqÅ^õ¯|ÿÿ47«~m¦1A÷=\u0002\u0010\u0018°`<?4°×\u0003lt\u0001â5Cp}\u0001Å\u0018\u0011Íeþïk­5W.3|wâ4\u0003ò9\u0000\u0000\u0010PÔ¯d¿}0·kr\n",
      "e1\u0003÷=\u0000ð\u001c\u0011Å\u001cõ`¼ÿ$±W\u0003jt!âu\u0013p}\u0011Ä\u0010Íaìïc­qS/3~·bt\u0003÷5\u0000\u0010QZÔ¿hïÿ4·ûrm$1\u0001÷=\u0000\u0001\f\u0018±h¼¿$°\u0017cntaâu\u0012p}\u0001Å\u0018\u0000Íaìïk­aW.r~\u0017bt\u0003÷u\u0000\u0010\u0011XÔ­`ÿÿ07ër\f!1A÷=\u0002\u0011Å\u001cXõxü¿6±×Clt1buRpy\u0001\u0018\u0010aìïk­5S¯2|Çât\u0003÷u\u0000\u0010\u0011ÅZÔ¿hïÿ0·{v\f§1A÷=\u0000\u0010\u0004\u0018±`?4ñ×{#htQâu\u0003ð}\u0001Å\u0018\u0010aìî{½#W.2|ât\u0003ó}\u0001\u0010\u0011ÅVÕ¯`ïÿ0·ërm 1Aw=\u00000\u0018\u0011\u0004\u0018°pÜ?<°\u0003ètaâqSð}\u0001E\u0018\u0010cüïk­!W/w~õbp\u0002ò9\u0001\u0018\u0011ÅVõ¯`oÿ0·ûr\f¥1Cõ}\u0002\u0011\u0004\u0018±`\u001c¿<±#ltqâ}\u0013p}\u0001\u0018\u0000cüïk½1W®2~Wât\u0003¶5\u0010\u0010\u0011XÔ¯hïý07ër, 1A÷=\u0002\u0010\f±hÜ?4±×c(tqâu\u0002p}\u0001Å\u0018\u0000Íaìïc­1W®v~\u0015b4#÷u\u0000\u0010\u0011ÅTõ¯`ïÿ0·kr-§5\u0001÷=\u0002´\u0018\u0011\u0014\u0018±pÜ¿<±W\u0003lt!â1\u0003ð}\u0001\u0018\u0010Íaìïk­!W/7~´b4\u0013÷=\u0000\u0010\u0011ÅTõ®`oý0·ÿv]¢1\u0003÷=\u0000\u0000\f\u0018°`¿$ñ×{#jtaâqCp}\u0001\u0018\u0010a¬ïk­5S/2~·bt\u0003òy \u0000\u0010TÔ¯`ïý4·ër]#1\u0001÷=\u0002\u0010\f\u0018°`¼¿4ð×#èt!â1\u0003pm\u0000\u0018\u0000cì®{­eW®7|%bt\u0003ó5\u0000\u0010\u0011ÅVõ¯`ÿÿ4¶ëv-#1\u0001÷=\u00000\u0018\u0011Å\u0014ñ`Üÿ<ð×\u0003jt!â5\u0013pu\u0001Ä\u0018\u0010Íeüïk­uW®s|\u0017ât\u0003ó5\u0010Ä\u0010\u0011Å^õ­`ÿÿ4·kr]¥1\u0001÷=\u0000°\u0018\u0011Å\u001cñ`Üÿ<°×\u0003jt!â5\u0013pu\u0011Ä\u0018\u0010Íe|ïk­uW®stWbt\u0003ó5\u0010\u0014QÅVõ­pÿÿ46ër-¡1\u0001÷=\u0000p\u0018\u0011Á\u0014õ`Ýÿ<ð×ckt!â5\u0013pu\u0011Å\u0018\u0010Íe|ïk­uW®st\u0017bt\u0003÷5\u0010\u0010\u0011ÅVõ­`ÿý4·ëv-å1\u0003÷=\u0000ð\u0018\u0011Å\u0014õ`Ýÿ<ð×Ckt!â5Spu\u0011Å\u0018\u0010Íe|ïk­qW®st÷ât\u0003ó5\u0010\u0014QÅVõ­pÿý4·ëv-e1\u0001÷=\u0000p\u0018\u0011Å\u0014õ`Üï<ð×#ktQâ1Cp}\u0001Ä\u0018\u0010Íe|ïk­uW®stwât\u0003ó5\u0010Å\u0010QÅTÕ¯pïÿ4·ëv-å1\u0003÷=\u0000p\u0018\u0011\u0014å`Ýÿ<ð×Ckt!â5\u0013p}\u0011Å\u0018\u0010Íe|ïk­uW®stwât\u0003ó=\u0010Å\u0010\u0011Å^Õÿh¯ý07ër- 1\u0003÷=\u0000°\u0018\u0011\u0014õ`Ýï<ð×Cit!â5Sp}\u0011Å\u0018\u0010Íeüïk­%W®3|Wât\u0003ó5\u0011Ä\u0010\u0011ÅVõ¯`ÿý4¶«r-å1\u0003÷=\u0000p\u0018\u0011Å\u0014õ`Üÿ<ð×#it!â5\u0013p}\u0011Å\u0018\u0010Íeüïk­qW®st\u0017ât\u0002ó=\u0001\u0000\u0011PÔ¯`ÿÿ0·k~}¥5\u0001÷=\u00004\u0018\u0011\u0018±`Üÿ<ð×\u0003it1âuSp}\u0011Å\u0018\u0010Íaìïk­aW®st\u0017â4\u0001s5\u0000\u0018\u0011Tõ¯`ÿ}2·kr, 1\u0001÷=\u0002\u0000Á\f\u0018±`?4ñ×#,tqâ0\u0011p\u0001\u0018\u0010c¬¯c­5W.7|7b4\u0013w}\u0001\u0010QÅVõ¯`ïÿ0·ûvm¡1A÷=\u0002\u0010\u0018±p|¿<¡W\u0003lt!â5Sp?\u0019Á\u0018\u0010Íeíc­1S.2|7b4\u0003ó=\u0001\u0010\u0011Å^Õ­`ÿÿ8·ër-!1A÷=\u00020\u0018\u0000\f\u0018°`\u001c¿$ W\u0003îtaâ5Cpu\u0000\u0000a\u001cïk­1W/w|×ât\u0003÷}\u0000\u0010XÔ¯`ïÿ0·ër-&1\u0001õ=\u00024\u0000\u0010±pÜ¿<°Ö{Cntaâ5\u0013p}\u0001\u0018\u0010Ma¬¯k­1W®2|wât\u0003ò5\u0001\u0010QÅTô®`ïÿ0·{z-¢1Aw}\u0000°\u0018\u0011\u001c\u0018°pÜ?4±Ö\u0003¨taâqCpm\u0000\u0000\n",
      "'1\u0003÷=\u0001t\u0011\u0014ñ`|ÿ<°\u0017{#(tAâ1\u0003p}\u0001Å\u0018\u0010Íe|ïk­aW®3|\u0017b4\u0001²5pÀ\u0000\u0011ÁXô¯hÿÿ4·ovm¤5\u0000÷=\u00000\u0018\u0011\u0014\u0018ñ`\\ÿ<°ÖÿC*taâqSp}\u0001Ä\u0018\u0010Mc­k­1S®3~7ât\u0013ó=\u0000\u0018\u0011ÅTõ¯`ïý0·ërL¤5\u0001ó=\u0002\u0001°p¿4ð×cntsâ7Sô}\u0011A\u0018\u0010Ía\u001c¨c¬1W®2~§â4\u0013ó=\u0000\u0010\u0011VÔ¯hÿ}6·{r, 1\u0001÷=\u0000°\u0018\u0011\f\u0018°p\\ï4±×\u0003htaâq\u0003ð}\u0001\u0018\u0010aìík­1W/r~bt\u0003³=\u0001\u0018\u0011PÔ­lÿÿ4·ïv}e5A÷=\u0011\u0011\fØ±xÜ¿ ±×cltqâw\u0003p}\u0001\u0018\u0000Íaìîk­eW?wþwæt3÷=q\u0004\u0000\u0010\u0001Ö­lÿÿ4÷ûvm§1A÷=\u0000\u0000\u0000\u0018±h¼¿< W#htaâ=Sö}\u0001Å\u0018\u0010Ía|îk­5W/v|uæt#²9\u0000\u0004Q^Ô®`ïÿ0·ozm'5\u0001÷=\u0000°\u0018\u0011\f\u0018°`Ü?4ð\u0016#ht!â1\u0003ð}\u0001\u0018\u0010Íaìïk­aW.2|·ât\u0013÷5\u0000\u0010\u0011ÅVÕ¯`oÿ0·{z-¥1A÷=\u00000\u0018\u0011\f\u0018±pÜ¿<ñV{#.tsâ=Sô=\u0001\u0018\u0010Íe|îk­5W.3~·æt\u0013³q\u0000\u0000\u0011\\Ô¬`ï4·+r-¤1\u0001÷=\u0002\u0010\u0004\u0018°`?4°\u0003,taâ1\u00030}\u0001E\u0018\u0010aüïk­1W¯r|\u0007bt\u0003÷y!\u0014QÅTô®`oý47«rm$1\u0003õ=\u0002\u0011\u0004´`?<ðW#ntqâqCp}\u0001Ä\u0018\u0010Íeüïk­uW®s|\u0017ât\u0003ó5\u0010\u0010\u0011ÅVõ¯`ÿý4¶ër-a1\u0003÷=\u0000ð\u0018\u0011\u0014ñ`üÿ,ð×\u0003jt!â5\u0013pu\u0011Å\u0018\u0010Íeüïk­aW/7~wâ4\u0003÷5\u0001\u0010\u0011ÅTõ¯`ïý4¶ëv-ã1\u0003÷=\u0000p\u0018\u0011Å\u0014õ`Ýï<ð×Ckt!â5Spu\u0011Ä\u0018\u0010Íeýïk­aW®st\u0017ât\u0003÷5\u0000\u0010\u0011ÅVõ­pÿÿ4·ëv-a1\u0001÷=\u0000ð\u0018\u0011Å\u0014õ`Üÿ<ðÕ\u0003jt!â5\u0013p}\u0001Ä\u0018\u0010Íe|ík­uW®st\u0017ât\u0003ó5\u0010Å\u0014QÅVõ­pÿý4¶ëv-å1\u0003÷=\u0000ð\u0018\u0011\u0014õ`Üï<ð×Cit!âuSp}\u0011Ä\u0018\u0010Íe|ïk­uW®st7ât\u0003ó5\u0010\u0014\u0011ÅVõ¯`ÿÿ0·{vm¥1\u0001÷=\u00000\u0018\u0011Å\u0014å`Ýï<ð×ckt!â5Sp}\u0011Å\u0018\u0010Íe|ïk­uW®s|wât\u0003ó5\u0010Å\u0014QÅVõ­pÿÿ4·ëv-e1\u0003÷=\u0000ð\u0018\u0011\u0014õ`Ýï<ð×Ckt!â5\u0012p=\u0001Å\u0018\u0010Íaìïk­qW®st\u0017ât\u0003ó5\u0010Å\u0014QÅ^õ­pÿý4÷ër-e1\u0003÷=\u0000p\u0018\u0011Å\u0014\u0018ñ|¿4ð×Cht!â5\u0013pu\u0011E\u0018\u0010Íeüïk­uW®stwât\u0003ó5\u0010Å\u0014QÅVõ¯`ÿÿ4¶ër-a1\u0003÷=\u0000ð\u0018\u0011Å\u0014\u0018ñ`Ü¿( \u0016\u0003ltqâ5\u0002pm\u0001Å\u0018\u0010Ía¿í{­1W®stWât\u0003ó5\u0010Å\u0014QÅVõ­pÿÿ47ëv-å1\u0003÷=\u0000ð\u001c\u0011Å\u0018I±pü¿,°×cit#c5sp}\u0001Á\u0018\u0000Ícýïk­1W.3|ât\u0003w}\u0001\u0010\u0011Å^õ¯`ïÿ47kvm¥5Aq=\u00000\u0000\u0010\u0000\u0018±xüÿ4q#(taâq\u0003p}\u0001Ä\u0018\u0010Íeìïc½1S.2|×ât\u0003òq\n"
     ]
    }
   ],
   "source": [
    "resnetSteganoGAN.encode(f'{IMAGES_TESTING_PATH}/input1.png', f'{IMAGES_OUTPUT_PATH}/output1.png', 'Hello, World! 1111')\n",
    "print(resnetSteganoGAN.decode(f'{IMAGES_OUTPUT_PATH}/output1.png'))"
   ]
  },
  {
   "cell_type": "code",
   "execution_count": 5,
   "metadata": {},
   "outputs": [],
   "source": [
    "resnetSteganoGAN.encode(f'{IMAGES_TESTING_PATH}/input2.png', f'{IMAGES_OUTPUT_PATH}/output2.png', 'Hello, World! 2222')\n",
    "print(resnetSteganoGAN.decode(f'{IMAGES_OUTPUT_PATH}/output2.png'))"
   ]
  },
  {
   "cell_type": "code",
   "execution_count": null,
   "metadata": {},
   "outputs": [],
   "source": [
    "resnetSteganoGAN.encode(f'{IMAGES_TESTING_PATH}/input3.png', f'{IMAGES_OUTPUT_PATH}/output3.png', 'Hello, World! 3333')\n",
    "print(resnetSteganoGAN.decode(f'{IMAGES_OUTPUT_PATH}/output3.png'))"
   ]
  },
  {
   "cell_type": "code",
   "execution_count": null,
   "metadata": {},
   "outputs": [],
   "source": [
    "resnetSteganoGAN.encode(f'{IMAGES_TESTING_PATH}/input4.png', f'{IMAGES_OUTPUT_PATH}/output4.png', 'Hello, World! 4444')\n",
    "print(resnetSteganoGAN.decode(f'{IMAGES_OUTPUT_PATH}/output4.png'))"
   ]
  },
  {
   "cell_type": "markdown",
   "metadata": {},
   "source": [
    "### SteganoGAN predict random data with metrics"
   ]
  },
  {
   "cell_type": "code",
   "execution_count": null,
   "metadata": {},
   "outputs": [],
   "source": [
    "cover_image = tf.random.uniform([1, IMAGE_HEIGHT, IMAGE_WIDTH, IMAGE_CHANNELS], -1, 1, dtype=tf.float32)\n",
    "message = tf.cast(tf.random.uniform([1, IMAGE_HEIGHT, IMAGE_WIDTH, MESSAGE_DEPTH], 0, 2, dtype=tf.int32), tf.float32)\n",
    "\n",
    "stego_img, recovered_msg = resnetSteganoGAN.predict([cover_image, message])\n",
    "\n",
    "print(\"stego_img min: {0}, max: {1}\".format(tf.reduce_min(stego_img), tf.reduce_max(stego_img)))\n",
    "print(\"recovered_msg min: {0}, max: {1}\".format(tf.reduce_min(recovered_msg), tf.reduce_max(recovered_msg)))\n",
    "\n",
    "print(\"BinaryCrossentropy: {0}\".format(BinaryCrossentropy(from_logits=False)(message, recovered_msg)))\n",
    "print(\"PSNR: {0}\".format(tf.reduce_mean(tf.image.psnr(cover_image, stego_img, 1))))\n",
    "print(\"SSIM: {0}\".format(tf.reduce_mean(tf.image.ssim(cover_image, stego_img, 1))))"
   ]
  }
 ],
 "metadata": {
  "colab": {
   "name": "steganogan_keras.ipynb",
   "provenance": [
    {
     "file_id": "https://github.com/jnickg/steganet/blob/main/steganogan_keras.ipynb",
     "timestamp": 1710610773710
    }
   ]
  },
  "kernelspec": {
   "display_name": "tf",
   "language": "python",
   "name": "python3"
  },
  "language_info": {
   "codemirror_mode": {
    "name": "ipython",
    "version": 3
   },
   "file_extension": ".py",
   "mimetype": "text/x-python",
   "name": "python",
   "nbconvert_exporter": "python",
   "pygments_lexer": "ipython3",
   "version": "3.12.7"
  },
  "orig_nbformat": 2
 },
 "nbformat": 4,
 "nbformat_minor": 0
}
